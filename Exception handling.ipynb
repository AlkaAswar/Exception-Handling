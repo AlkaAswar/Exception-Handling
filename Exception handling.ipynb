{
 "cells": [
  {
   "cell_type": "code",
   "execution_count": 1,
   "id": "10a8ad2f",
   "metadata": {},
   "outputs": [
    {
     "name": "stdout",
     "output_type": "stream",
     "text": [
      "Enter 1st number:2\n",
      "Enter 2nd number:0\n",
      "exception occured division by zero\n"
     ]
    }
   ],
   "source": [
    "x=input(\"Enter 1st number:\")\n",
    "y=input(\"Enter 2nd number:\")\n",
    "try:\n",
    "    z=int(x)/int(y)\n",
    "except Exception as e:\n",
    "    print(\"exception occured\",e)"
   ]
  },
  {
   "cell_type": "code",
   "execution_count": null,
   "id": "21638315",
   "metadata": {},
   "outputs": [],
   "source": []
  }
 ],
 "metadata": {
  "kernelspec": {
   "display_name": "Python 3 (ipykernel)",
   "language": "python",
   "name": "python3"
  },
  "language_info": {
   "codemirror_mode": {
    "name": "ipython",
    "version": 3
   },
   "file_extension": ".py",
   "mimetype": "text/x-python",
   "name": "python",
   "nbconvert_exporter": "python",
   "pygments_lexer": "ipython3",
   "version": "3.9.7"
  }
 },
 "nbformat": 4,
 "nbformat_minor": 5
}
